{
 "cells": [
  {
   "cell_type": "code",
   "execution_count": 4,
   "id": "ad3e4586-18b4-4d48-bd51-0c36dad70caf",
   "metadata": {},
   "outputs": [
    {
     "data": {
      "text/plain": [
       "[1, 2, 3]"
      ]
     },
     "execution_count": 4,
     "metadata": {},
     "output_type": "execute_result"
    }
   ],
   "source": [
    "# range function\n",
    "\n",
    "list(range(1,4))"
   ]
  },
  {
   "cell_type": "code",
   "execution_count": 6,
   "id": "0f08f4ef-6809-4c0b-b3d5-c91e98b26290",
   "metadata": {},
   "outputs": [
    {
     "data": {
      "text/plain": [
       "[0, 1, 2, 3]"
      ]
     },
     "execution_count": 6,
     "metadata": {},
     "output_type": "execute_result"
    }
   ],
   "source": [
    "list(range(4))"
   ]
  },
  {
   "cell_type": "code",
   "execution_count": 16,
   "id": "bafe9f65-383f-4ab4-acf1-3c77ea2b34c2",
   "metadata": {},
   "outputs": [
    {
     "data": {
      "text/plain": [
       "[1, 3]"
      ]
     },
     "execution_count": 16,
     "metadata": {},
     "output_type": "execute_result"
    }
   ],
   "source": [
    "list(range(1,4,2))"
   ]
  },
  {
   "cell_type": "code",
   "execution_count": 28,
   "id": "fec0496a-b510-4aa3-b8fb-c45f377c435f",
   "metadata": {},
   "outputs": [
    {
     "data": {
      "text/plain": [
       "[6, 5, 4, 3]"
      ]
     },
     "execution_count": 28,
     "metadata": {},
     "output_type": "execute_result"
    }
   ],
   "source": [
    "list(range(6,2,-1))"
   ]
  },
  {
   "cell_type": "code",
   "execution_count": 30,
   "id": "3fbd14ea-78e4-4f42-adc3-786d1a38dc2a",
   "metadata": {},
   "outputs": [
    {
     "data": {
      "text/plain": [
       "'Karachi'"
      ]
     },
     "execution_count": 30,
     "metadata": {},
     "output_type": "execute_result"
    }
   ],
   "source": [
    "# sequence\n",
    "# string\n",
    "\"Karachi\""
   ]
  },
  {
   "cell_type": "code",
   "execution_count": 32,
   "id": "61e78421-9b60-4d6f-944c-ad08630862fc",
   "metadata": {},
   "outputs": [
    {
     "data": {
      "text/plain": [
       "['Karachi', 'Lahore', 'Islamabad']"
      ]
     },
     "execution_count": 32,
     "metadata": {},
     "output_type": "execute_result"
    }
   ],
   "source": [
    "[\"Karachi\",\"Lahore\",\"Islamabad\"]"
   ]
  },
  {
   "cell_type": "code",
   "execution_count": 34,
   "id": "3212cc7f-2136-4fc6-bce8-1d98a5486304",
   "metadata": {},
   "outputs": [
    {
     "data": {
      "text/plain": [
       "('Karachi', 'Lahore', 'Islamabad')"
      ]
     },
     "execution_count": 34,
     "metadata": {},
     "output_type": "execute_result"
    }
   ],
   "source": [
    "(\"Karachi\",\"Lahore\",\"Islamabad\")"
   ]
  },
  {
   "cell_type": "code",
   "execution_count": 36,
   "id": "17c1ff63-4531-46fe-9c32-18e24918faa5",
   "metadata": {},
   "outputs": [
    {
     "data": {
      "text/plain": [
       "{'Islamabad', 'Karachi', 'Lahore'}"
      ]
     },
     "execution_count": 36,
     "metadata": {},
     "output_type": "execute_result"
    }
   ],
   "source": [
    "{\"Karachi\",\"Lahore\",\"Islamabad\"}"
   ]
  },
  {
   "cell_type": "code",
   "execution_count": 42,
   "id": "adcf30b3-37bf-41b1-942d-a822f40fa03b",
   "metadata": {},
   "outputs": [
    {
     "name": "stdout",
     "output_type": "stream",
     "text": [
      "1\n",
      "2\n",
      "3\n",
      "4\n",
      "5\n",
      "6\n",
      "7\n",
      "8\n",
      "9\n"
     ]
    }
   ],
   "source": [
    "for i in range(1,10):\n",
    "    print(i)"
   ]
  },
  {
   "cell_type": "code",
   "execution_count": 44,
   "id": "e911e5a4-6994-47fd-9c1a-70b70668d2b1",
   "metadata": {},
   "outputs": [
    {
     "name": "stdout",
     "output_type": "stream",
     "text": [
      "0\n",
      "1\n",
      "2\n",
      "3\n",
      "4\n",
      "5\n",
      "6\n",
      "7\n",
      "8\n",
      "9\n"
     ]
    }
   ],
   "source": [
    "for i in range(10):\n",
    "    print(i)"
   ]
  },
  {
   "cell_type": "code",
   "execution_count": 56,
   "id": "c37783c1-9f68-4836-bb4a-acffab972f06",
   "metadata": {},
   "outputs": [
    {
     "name": "stdout",
     "output_type": "stream",
     "text": [
      "1\n",
      "4\n",
      "7\n"
     ]
    }
   ],
   "source": [
    "for i in range(1,10,3):\n",
    "    print(i)"
   ]
  },
  {
   "cell_type": "code",
   "execution_count": 62,
   "id": "c91e3ac5-967d-4afd-884e-b1f5b53b7fb7",
   "metadata": {},
   "outputs": [
    {
     "name": "stdout",
     "output_type": "stream",
     "text": [
      "10\n",
      "9\n",
      "8\n",
      "7\n",
      "6\n",
      "5\n",
      "4\n",
      "3\n",
      "2\n",
      "1\n"
     ]
    }
   ],
   "source": [
    "for i in range(10,0,-1):\n",
    "    print(i)"
   ]
  },
  {
   "cell_type": "code",
   "execution_count": 66,
   "id": "d126cff4-80dd-4522-9d00-8f6c20fd9d3f",
   "metadata": {},
   "outputs": [
    {
     "name": "stdout",
     "output_type": "stream",
     "text": [
      "K\n",
      "a\n",
      "r\n",
      "a\n",
      "c\n",
      "h\n",
      "i\n"
     ]
    }
   ],
   "source": [
    "for i in \"Karachi\":\n",
    "    print(i)"
   ]
  },
  {
   "cell_type": "code",
   "execution_count": 68,
   "id": "035e48bd-3a65-40b9-81ec-3dcd619a070a",
   "metadata": {},
   "outputs": [
    {
     "name": "stdout",
     "output_type": "stream",
     "text": [
      "1\n",
      "2\n",
      "3\n",
      "4\n",
      "5\n",
      "6\n",
      "7\n",
      "8\n",
      "9\n"
     ]
    }
   ],
   "source": [
    "for i in [1,2,3,4,5,6,7,8,9]:\n",
    "    print(i)"
   ]
  },
  {
   "cell_type": "code",
   "execution_count": 70,
   "id": "664cf9e5-10ac-46f1-83d8-fce1136e0131",
   "metadata": {},
   "outputs": [
    {
     "name": "stdout",
     "output_type": "stream",
     "text": [
      "1\n",
      "2\n",
      "3\n",
      "4\n",
      "5\n",
      "6\n",
      "7\n",
      "8\n",
      "9\n"
     ]
    }
   ],
   "source": [
    "for i in {1,2,3,4,5,6,7,8,9}:\n",
    "    print(i)"
   ]
  },
  {
   "cell_type": "code",
   "execution_count": 73,
   "id": "1f080cef-fc55-426f-b41c-d57a6dfbc8f8",
   "metadata": {},
   "outputs": [
    {
     "name": "stdout",
     "output_type": "stream",
     "text": [
      "1\n",
      "2\n",
      "3\n",
      "4\n",
      "5\n",
      "6\n",
      "7\n",
      "8\n",
      "9\n"
     ]
    }
   ],
   "source": [
    "for i in (1,2,3,4,5,6,7,8,9):\n",
    "    print(i)"
   ]
  },
  {
   "cell_type": "code",
   "execution_count": null,
   "id": "1fcad132-85f0-40eb-9be2-4c0ce0463c98",
   "metadata": {},
   "outputs": [],
   "source": []
  }
 ],
 "metadata": {
  "kernelspec": {
   "display_name": "Python 3 (ipykernel)",
   "language": "python",
   "name": "python3"
  },
  "language_info": {
   "codemirror_mode": {
    "name": "ipython",
    "version": 3
   },
   "file_extension": ".py",
   "mimetype": "text/x-python",
   "name": "python",
   "nbconvert_exporter": "python",
   "pygments_lexer": "ipython3",
   "version": "3.12.4"
  }
 },
 "nbformat": 4,
 "nbformat_minor": 5
}
