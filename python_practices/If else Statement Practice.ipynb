{
 "cells": [
  {
   "cell_type": "code",
   "execution_count": 13,
   "id": "e8959de3-8c4a-4fdd-83ba-944186b31e5c",
   "metadata": {},
   "outputs": [
    {
     "name": "stdin",
     "output_type": "stream",
     "text": [
      "Enter your country india\n",
      "Enter your age 56\n"
     ]
    },
    {
     "name": "stdout",
     "output_type": "stream",
     "text": [
      "You are eligible to vote\n"
     ]
    }
   ],
   "source": [
    "Country = input(\"Enter your country\")\n",
    "Age = input(\"Enter your age\")\n",
    "\n",
    "if Country == \"usa\" and Age >= \"18\":\n",
    "    print(\"You are eligible to vote\")\n",
    "\n",
    "elif Country == \"india\" and Age >= \"18\":\n",
    "    print(\"You are eligible to vote\")\n",
    "\n",
    "elif Country == \"pakistan\" and Age >= \"18\":\n",
    "    print(\"You are eligible to vote\")\n",
    "\n",
    "else:\n",
    "    print(\"Sorry, you are not eligible to vote\")"
   ]
  },
  {
   "cell_type": "code",
   "execution_count": 13,
   "id": "2a7a1fff-f255-4321-84ae-1b8191291cfc",
   "metadata": {},
   "outputs": [
    {
     "name": "stdin",
     "output_type": "stream",
     "text": [
      "Enter the number 4578876542\n"
     ]
    },
    {
     "name": "stdout",
     "output_type": "stream",
     "text": [
      "Your entered number is even\n"
     ]
    }
   ],
   "source": [
    "Number = int(input(\"Enter the number\"))\n",
    "\n",
    "if Number % 2 == 0:\n",
    "    print(\"Your entered number is even\")\n",
    "\n",
    "else:\n",
    "    print(\"Your entered number is odd\")"
   ]
  },
  {
   "cell_type": "code",
   "execution_count": 15,
   "id": "0d09839a-ae36-4ffe-adb5-72373ef88b2f",
   "metadata": {},
   "outputs": [
    {
     "name": "stdin",
     "output_type": "stream",
     "text": [
      "Enter your name erty\n",
      "Enter your father name dfghj\n",
      "Enter your age 18\n",
      "Enter your code 134\n"
     ]
    },
    {
     "name": "stdout",
     "output_type": "stream",
     "text": [
      "Your code is false\n"
     ]
    },
    {
     "name": "stdin",
     "output_type": "stream",
     "text": [
      "Type again 12345\n"
     ]
    },
    {
     "name": "stdout",
     "output_type": "stream",
     "text": [
      "code is correct. You are eligible to vote and your area is NA 232\n"
     ]
    }
   ],
   "source": [
    "Name = input(\"Enter your name\")\n",
    "F_Name = input(\"Enter your father name\")\n",
    "Age = int(input(\"Enter your age\"))\n",
    "Code = input(\"Enter your code\")\n",
    "\n",
    "if Age >= 18 and Code == \"12345\":\n",
    "    print(\"You are eligible to vote and your area is NA 232\")\n",
    "\n",
    "elif Code != \"12345\":\n",
    "    print(\"Your code is false\")\n",
    "    Code = input(\"Type again\")\n",
    "\n",
    "    if Code == \"12345\":\n",
    "            print(\"code is correct. You are eligible to vote and your area is NA 232\")\n",
    "\n",
    "    else:\n",
    "            print(\"code is incorrect\")\n",
    "\n",
    "else:\n",
    "    print(\"You are not eligible to vote\")"
   ]
  },
  {
   "cell_type": "code",
   "execution_count": null,
   "id": "206a8536-e03c-4fae-841a-33f6346083c9",
   "metadata": {},
   "outputs": [],
   "source": []
  }
 ],
 "metadata": {
  "kernelspec": {
   "display_name": "Python 3 (ipykernel)",
   "language": "python",
   "name": "python3"
  },
  "language_info": {
   "codemirror_mode": {
    "name": "ipython",
    "version": 3
   },
   "file_extension": ".py",
   "mimetype": "text/x-python",
   "name": "python",
   "nbconvert_exporter": "python",
   "pygments_lexer": "ipython3",
   "version": "3.12.4"
  }
 },
 "nbformat": 4,
 "nbformat_minor": 5
}
