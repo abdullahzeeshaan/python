{
 "cells": [
  {
   "cell_type": "code",
   "execution_count": null,
   "id": "e0587e3d-1e4c-47cc-b0d3-30d365617c82",
   "metadata": {},
   "outputs": [],
   "source": [
    "# Print Statement Practice"
   ]
  },
  {
   "cell_type": "code",
   "execution_count": 39,
   "id": "6d05f929-b61d-4530-a7b5-b8be39792bbf",
   "metadata": {},
   "outputs": [],
   "source": [
    "name = \"Abdullah\"\n",
    "age = 18 \n",
    "hobby = \"cricket\""
   ]
  },
  {
   "cell_type": "code",
   "execution_count": 41,
   "id": "d42da42e-e1c4-4224-b505-8e026c6380fc",
   "metadata": {},
   "outputs": [
    {
     "name": "stdout",
     "output_type": "stream",
     "text": [
      "Name: Abdullah Age: 18 Favourite hobby: cricket\n"
     ]
    }
   ],
   "source": [
    "print(\"Name:\", name, \"Age:\", age, \"Favourite hobby:\", hobby)"
   ]
  },
  {
   "cell_type": "code",
   "execution_count": 63,
   "id": "a2c5cdff-12ba-4467-b688-2fdd6a68fd16",
   "metadata": {},
   "outputs": [],
   "source": [
    "age = 5\n",
    "marks = 7.9\n",
    "pahchan = \"pagal\"\n",
    "sahi  = True"
   ]
  },
  {
   "cell_type": "code",
   "execution_count": 103,
   "id": "abcff43a-2089-4ea3-88e6-7e9cf3ad86c7",
   "metadata": {},
   "outputs": [
    {
     "name": "stdout",
     "output_type": "stream",
     "text": [
      "<class 'int'> <class 'str'> <class 'str'> <class 'bool'>\n"
     ]
    }
   ],
   "source": [
    "print(type(age), type(marks), type(pahchan), type(sahi))"
   ]
  },
  {
   "cell_type": "code",
   "execution_count": null,
   "id": "67383f32-f55f-462f-b24f-785fdaede7d4",
   "metadata": {},
   "outputs": [],
   "source": [
    "# Data Type Practice"
   ]
  },
  {
   "cell_type": "code",
   "execution_count": 119,
   "id": "d5038685-4170-45c3-ae7e-53e20dfa352f",
   "metadata": {},
   "outputs": [],
   "source": [
    "age = 18\n",
    "message = f\"I am {age} years old\""
   ]
  },
  {
   "cell_type": "code",
   "execution_count": 121,
   "id": "73a05db0-8a51-440c-86eb-b324c0dc0179",
   "metadata": {},
   "outputs": [
    {
     "name": "stdout",
     "output_type": "stream",
     "text": [
      "I am 18 years old\n"
     ]
    }
   ],
   "source": [
    "print(message)"
   ]
  },
  {
   "cell_type": "code",
   "execution_count": null,
   "id": "ca549dc1-2ebe-4dbc-ba1c-3716eec849fb",
   "metadata": {},
   "outputs": [],
   "source": [
    "age = 18\n",
    "message = \"I am\" + str(age) + years old\""
   ]
  },
  {
   "cell_type": "code",
   "execution_count": 123,
   "id": "b23b4595-36b3-42bb-91cb-b85542d5ad27",
   "metadata": {},
   "outputs": [
    {
     "name": "stdout",
     "output_type": "stream",
     "text": [
      "I am 18 years old\n"
     ]
    }
   ],
   "source": [
    "print(message)"
   ]
  },
  {
   "cell_type": "code",
   "execution_count": 125,
   "id": "3736544f-6aaa-46cf-8265-e21c78b867f6",
   "metadata": {},
   "outputs": [],
   "source": [
    "# Input Variables Practice"
   ]
  },
  {
   "cell_type": "code",
   "execution_count": 149,
   "id": "b8cae981-a6e0-41dc-ae62-042384056faf",
   "metadata": {},
   "outputs": [
    {
     "name": "stdin",
     "output_type": "stream",
     "text": [
      "Name: Abdullah\n",
      "Age: 18\n",
      "Favourite Color: Dark Blue\n"
     ]
    }
   ],
   "source": [
    "name = input(\"Name:\")\n",
    "age = input(\"Age:\")\n",
    "color = input(\"Favourite Color:\")"
   ]
  },
  {
   "cell_type": "code",
   "execution_count": 151,
   "id": "b702c08b-51db-4d48-9cf6-55f9edec35dd",
   "metadata": {},
   "outputs": [
    {
     "name": "stdout",
     "output_type": "stream",
     "text": [
      " Hello Abdullah. You are 18 years old and your favourite color is Dark Blue\n"
     ]
    }
   ],
   "source": [
    "print(f\" Hello {name}. You are {age} years old and your favourite color is {color}\")"
   ]
  },
  {
   "cell_type": "code",
   "execution_count": 175,
   "id": "03ef8a54-5f07-4b8f-b693-9a887a14b2d4",
   "metadata": {},
   "outputs": [
    {
     "name": "stdin",
     "output_type": "stream",
     "text": [
      "Enter first number 44\n",
      "Enter second number 44\n"
     ]
    },
    {
     "name": "stdout",
     "output_type": "stream",
     "text": [
      "88\n"
     ]
    }
   ],
   "source": [
    "F_Number = int(input(\"Enter first number\"))\n",
    "S_Number = int(input(\"Enter second number\"))\n",
    "\n",
    "result = F_Number + S_Number\n",
    "\n",
    "print(result)"
   ]
  },
  {
   "cell_type": "code",
   "execution_count": null,
   "id": "b419547c-5dcd-49ed-aa7e-ce9428a10230",
   "metadata": {},
   "outputs": [],
   "source": []
  }
 ],
 "metadata": {
  "kernelspec": {
   "display_name": "Python 3 (ipykernel)",
   "language": "python",
   "name": "python3"
  },
  "language_info": {
   "codemirror_mode": {
    "name": "ipython",
    "version": 3
   },
   "file_extension": ".py",
   "mimetype": "text/x-python",
   "name": "python",
   "nbconvert_exporter": "python",
   "pygments_lexer": "ipython3",
   "version": "3.12.4"
  }
 },
 "nbformat": 4,
 "nbformat_minor": 5
}
