{
 "cells": [
  {
   "cell_type": "code",
   "execution_count": 3,
   "id": "932cbff5-22a4-4450-9cd8-6e9320962112",
   "metadata": {},
   "outputs": [],
   "source": [
    "# while condition:\n",
    "    #code"
   ]
  },
  {
   "cell_type": "code",
   "execution_count": 19,
   "id": "602a8776-5b59-456b-aa32-ffd45ff08593",
   "metadata": {},
   "outputs": [
    {
     "name": "stdin",
     "output_type": "stream",
     "text": [
      "Enter the number of the table 1000434587346828\n"
     ]
    },
    {
     "name": "stdout",
     "output_type": "stream",
     "text": [
      "1000434587346828 * 0 = 0\n",
      "1000434587346828 * 1 = 1000434587346828\n",
      "1000434587346828 * 2 = 2000869174693656\n",
      "1000434587346828 * 3 = 3001303762040484\n",
      "1000434587346828 * 4 = 4001738349387312\n",
      "1000434587346828 * 5 = 5002172936734140\n",
      "1000434587346828 * 6 = 6002607524080968\n",
      "1000434587346828 * 7 = 7003042111427796\n",
      "1000434587346828 * 8 = 8003476698774624\n",
      "1000434587346828 * 9 = 9003911286121452\n",
      "1000434587346828 * 10 = 10004345873468280\n"
     ]
    }
   ],
   "source": [
    "number = int(input(\"Enter the number of the table\"))\n",
    "\n",
    "i = 0\n",
    "\n",
    "while i < 11:\n",
    "    print(number, \"*\", i, \"=\", number * i)\n",
    "    i+=1"
   ]
  },
  {
   "cell_type": "code",
   "execution_count": null,
   "id": "bb89dad4-6122-4f58-ab22-add56784084a",
   "metadata": {},
   "outputs": [],
   "source": []
  }
 ],
 "metadata": {
  "kernelspec": {
   "display_name": "Python 3 (ipykernel)",
   "language": "python",
   "name": "python3"
  },
  "language_info": {
   "codemirror_mode": {
    "name": "ipython",
    "version": 3
   },
   "file_extension": ".py",
   "mimetype": "text/x-python",
   "name": "python",
   "nbconvert_exporter": "python",
   "pygments_lexer": "ipython3",
   "version": "3.12.4"
  }
 },
 "nbformat": 4,
 "nbformat_minor": 5
}
