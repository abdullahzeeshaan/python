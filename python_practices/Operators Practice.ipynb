{
 "cells": [
  {
   "cell_type": "code",
   "execution_count": null,
   "id": "fc6a76d2-3334-47a8-89c3-78235c826503",
   "metadata": {},
   "outputs": [],
   "source": [
    "# Arthmetic Operators"
   ]
  },
  {
   "cell_type": "code",
   "execution_count": 9,
   "id": "172930ba-18a1-4ff1-a5e2-852c49e448d4",
   "metadata": {},
   "outputs": [
    {
     "name": "stdin",
     "output_type": "stream",
     "text": [
      "Enter the first number 5\n",
      "Enter the second number 9\n"
     ]
    },
    {
     "name": "stdout",
     "output_type": "stream",
     "text": [
      "5.0 + 9.0 = 14.0\n",
      "5.0 - 9.0 = -4.0\n",
      "5.0 * 9.0 = 45.0\n",
      "5.0 / 9.0 = 0.5555555555555556\n",
      "5.0 % 9.0 = 5.0\n",
      "5.0 ** 9.0 = 1953125.0\n",
      "5.0 // 9.0 = 0.0\n"
     ]
    }
   ],
   "source": [
    "F_num = float(input(\"Enter the first number\"))\n",
    "S_num = float(input(\"Enter the second number\"))\n",
    "\n",
    "print(f\"{F_num} + {S_num} = {F_num + S_num}\")\n",
    "print(f\"{F_num} - {S_num} = {F_num - S_num}\")\n",
    "print(f\"{F_num} * {S_num} = {F_num * S_num}\")\n",
    "print(f\"{F_num} / {S_num} = {F_num / S_num}\")\n",
    "print(f\"{F_num} % {S_num} = {F_num % S_num}\")\n",
    "print(f\"{F_num} ** {S_num} = {F_num ** S_num}\")\n",
    "print(f\"{F_num} // {S_num} = {F_num // S_num}\")"
   ]
  },
  {
   "cell_type": "code",
   "execution_count": null,
   "id": "d2d62730-1f20-4f9e-a23e-61df27ae9a22",
   "metadata": {},
   "outputs": [],
   "source": [
    "F_Num = float(input(\"Enter the first value\"))\n",
    "S_Num = float(input(\"Enter the second value\"))\n",
    "\n",
    "print(\"Choose an operator which you want to perform:\")\n",
    "print(\"Addition (+)\")\n",
    "print(\"Subtraction (-)\")\n",
    "print(\"Multiplication (*)\")\n",
    "print(\"Division (/)\")\n",
    "\n",
    "Operator = input(\"Enter the operator\")\n",
    "\n"
   ]
  },
  {
   "cell_type": "code",
   "execution_count": 11,
   "id": "c61eb9a5-802d-4aca-a5ed-21570015ed0a",
   "metadata": {},
   "outputs": [],
   "source": [
    "# Assignment Operators"
   ]
  },
  {
   "cell_type": "code",
   "execution_count": null,
   "id": "04fec482-88b8-4f66-b86e-86b3460526de",
   "metadata": {},
   "outputs": [],
   "source": []
  }
 ],
 "metadata": {
  "kernelspec": {
   "display_name": "Python 3 (ipykernel)",
   "language": "python",
   "name": "python3"
  },
  "language_info": {
   "codemirror_mode": {
    "name": "ipython",
    "version": 3
   },
   "file_extension": ".py",
   "mimetype": "text/x-python",
   "name": "python",
   "nbconvert_exporter": "python",
   "pygments_lexer": "ipython3",
   "version": "3.12.4"
  }
 },
 "nbformat": 4,
 "nbformat_minor": 5
}
