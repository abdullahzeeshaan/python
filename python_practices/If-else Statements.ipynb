{
 "cells": [
  {
   "cell_type": "code",
   "execution_count": null,
   "id": "9c712101-376a-4b68-a33a-0a3bc7f8ae07",
   "metadata": {},
   "outputs": [],
   "source": [
    "email = input(\"Enter the email\")\n",
    "if \"@\" in email:\n",
    "    password = input(\"Enter the password\")\n",
    "    \n",
    "    if email == \"abdul@gmail.com\" and password == \"12345\":\n",
    "         print (\"Welcome\")\n",
    "    elif email == \"abdul@gmail.com\" and password != \"12345\":\n",
    "        print(\"Password Incorrect\")\n",
    "        pasword = input(\"Password again type\")\n",
    "\n",
    "        if password == \"12345\":\n",
    "            print(\"Its Correct\")\n",
    "        else: \n",
    "            print(\"Still Incorrect\")\n",
    "  \n",
    "    else: \n",
    "        print(\"Incorrect Credentials\")\n",
    "else:\n",
    "    print(\"Incorrect email\")"
   ]
  },
  {
   "cell_type": "code",
   "execution_count": null,
   "id": "13181aca-aa1d-4eb1-9b7a-7438688562d8",
   "metadata": {},
   "outputs": [],
   "source": []
  }
 ],
 "metadata": {
  "kernelspec": {
   "display_name": "Python 3 (ipykernel)",
   "language": "python",
   "name": "python3"
  },
  "language_info": {
   "codemirror_mode": {
    "name": "ipython",
    "version": 3
   },
   "file_extension": ".py",
   "mimetype": "text/x-python",
   "name": "python",
   "nbconvert_exporter": "python",
   "pygments_lexer": "ipython3",
   "version": "3.12.4"
  }
 },
 "nbformat": 4,
 "nbformat_minor": 5
}
