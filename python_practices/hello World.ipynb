{
 "cells": [
  {
   "cell_type": "code",
   "execution_count": 1,
   "id": "7ba430b5-5eb8-4a23-b7a6-2c8376af6a26",
   "metadata": {},
   "outputs": [
    {
     "name": "stdout",
     "output_type": "stream",
     "text": [
      "Hello World\n"
     ]
    }
   ],
   "source": [
    "print(\"Hello World\")"
   ]
  },
  {
   "cell_type": "code",
   "execution_count": 4,
   "id": "c92c8476-f69e-4280-91ff-54f76691143d",
   "metadata": {},
   "outputs": [
    {
     "name": "stdout",
     "output_type": "stream",
     "text": [
      "Pakistan/India/Nepal\n"
     ]
    }
   ],
   "source": [
    "print(\"Pakistan\" , \"India\" , \"Nepal\" , sep=\"/\")"
   ]
  },
  {
   "cell_type": "code",
   "execution_count": 5,
   "id": "0a7315ad-e7dc-4cab-ab71-4f2e7b2b7e70",
   "metadata": {},
   "outputs": [
    {
     "name": "stdout",
     "output_type": "stream",
     "text": [
      "Pakistan\n",
      "India\n",
      "Nepal\n"
     ]
    }
   ],
   "source": [
    "print(\"Pakistan\")\n",
    "print(\"India\")\n",
    "print(\"Nepal\")"
   ]
  },
  {
   "cell_type": "code",
   "execution_count": 7,
   "id": "4eba2c51-26d8-4fdf-8ce8-170c0fc4e6e2",
   "metadata": {},
   "outputs": [
    {
     "name": "stdout",
     "output_type": "stream",
     "text": [
      "Pakistan India Nepal\n"
     ]
    }
   ],
   "source": [
    "print(\"Pakistan\" , end=\" \")\n",
    "print(\"India\" , end=\" \")\n",
    "print(\"Nepal\")"
   ]
  },
  {
   "cell_type": "code",
   "execution_count": 8,
   "id": "b9ad3c0d-5b8d-4fc4-8cac-c37f07423d7a",
   "metadata": {},
   "outputs": [
    {
     "name": "stdout",
     "output_type": "stream",
     "text": [
      "Pakistan India Nepal\n"
     ]
    }
   ],
   "source": [
    "print(\"Pakistan\",\"India\",\"Nepal\")"
   ]
  },
  {
   "cell_type": "code",
   "execution_count": null,
   "id": "801e2db9-2151-4fc5-ac23-35022ce13497",
   "metadata": {},
   "outputs": [],
   "source": []
  }
 ],
 "metadata": {
  "kernelspec": {
   "display_name": "Python 3 (ipykernel)",
   "language": "python",
   "name": "python3"
  },
  "language_info": {
   "codemirror_mode": {
    "name": "ipython",
    "version": 3
   },
   "file_extension": ".py",
   "mimetype": "text/x-python",
   "name": "python",
   "nbconvert_exporter": "python",
   "pygments_lexer": "ipython3",
   "version": "3.12.4"
  }
 },
 "nbformat": 4,
 "nbformat_minor": 5
}
