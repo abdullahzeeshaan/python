{
 "cells": [
  {
   "cell_type": "code",
   "execution_count": 11,
   "id": "a586cb71-34e4-4939-8b34-4f0ec5e7b5df",
   "metadata": {},
   "outputs": [
    {
     "name": "stdin",
     "output_type": "stream",
     "text": [
      "Enter your first name Abdullah\n",
      "Enter your last name Zeeshan\n"
     ]
    },
    {
     "name": "stdout",
     "output_type": "stream",
     "text": [
      "Abdullah Zeeshan\n"
     ]
    }
   ],
   "source": [
    "F_Name = input(\"Enter your first name:\")\n",
    "L_Name = input(\"Enter your last name:\")\n",
    "\n",
    "print(F_Name + \" \" + L_Name)"
   ]
  },
  {
   "cell_type": "code",
   "execution_count": 37,
   "id": "8651ca77-045f-4c9b-9917-074b26820dc5",
   "metadata": {},
   "outputs": [
    {
     "name": "stdin",
     "output_type": "stream",
     "text": [
      "Enter your name: Abdullah\n",
      "Enter your age: 18\n"
     ]
    },
    {
     "name": "stdout",
     "output_type": "stream",
     "text": [
      " Hello, Abdullah. You are 18 years old.\n"
     ]
    }
   ],
   "source": [
    "Name = input(\"Enter your name:\")\n",
    "Age  = input(\"Enter your age:\")\n",
    "\n",
    "print(f''' Hello, {Name}!. You are {Age} years old.''')"
   ]
  },
  {
   "cell_type": "code",
   "execution_count": 33,
   "id": "73aadd21-643d-486a-a2e2-36aaa8abfbce",
   "metadata": {},
   "outputs": [
    {
     "name": "stdin",
     "output_type": "stream",
     "text": [
      "Enter your number: 6\n",
      "Enter your word: Bananas\n"
     ]
    },
    {
     "name": "stdout",
     "output_type": "stream",
     "text": [
      " I have 6 Bananas.\n"
     ]
    }
   ],
   "source": [
    "Number = input(\"Enter your number:\")\n",
    "Word  = input(\"Enter your word:\")\n",
    "\n",
    "print(f''' I have {Number} {Word}.''')"
   ]
  },
  {
   "cell_type": "code",
   "execution_count": 57,
   "id": "3ebe282c-d3b4-4bb9-ab2b-57e3d8bf522e",
   "metadata": {},
   "outputs": [
    {
     "name": "stdin",
     "output_type": "stream",
     "text": [
      "Enter your name: Abdullah\n",
      "Enter your age: 18\n",
      "Enter your favourote color: Bue\n",
      "Enter your favourite sports: Cricket\n"
     ]
    },
    {
     "name": "stdout",
     "output_type": "stream",
     "text": [
      "Hi Abdullah!\n",
      "You are 18 years old.\n",
      "Your favourite color is Bue.\n",
      "I heared you loved Cricket.\n"
     ]
    }
   ],
   "source": [
    "Name = input(\"Enter your name:\")\n",
    "Age  = input(\"Enter your age:\")\n",
    "Color = input(\"Enter your favourote color:\")\n",
    "Sports  = input(\"Enter your favourite sports:\")\n",
    "\n",
    "print(f'''Hi {Name}!\n",
    "You are {Age} years old.\n",
    "Your favourite color is {Color}.\n",
    "I heared you love {Sports}.''')"
   ]
  },
  {
   "cell_type": "code",
   "execution_count": 59,
   "id": "02dbe0c5-4887-4051-b19f-9bb7c58d0bff",
   "metadata": {},
   "outputs": [
    {
     "name": "stdin",
     "output_type": "stream",
     "text": [
      "Enter your name: Abdullah\n",
      "Enter your age: 18\n",
      "Enter your favourote color: Blue\n",
      "Enter your favourite sports: Cricket\n"
     ]
    },
    {
     "name": "stdout",
     "output_type": "stream",
     "text": [
      "Hi Abdullah!\n",
      "You are 18 years old.\n",
      "Your favourite color is Blue.\n",
      "I heared you love Cricket.\n"
     ]
    }
   ],
   "source": [
    "Name = input(\"Enter your name:\")\n",
    "Age  = input(\"Enter your age:\")\n",
    "Color = input(\"Enter your favourote color:\")\n",
    "Sports  = input(\"Enter your favourite sports:\")\n",
    "\n",
    "message = f'''Hi {Name}!\n",
    "You are {Age} years old.\n",
    "Your favourite color is {Color}.\n",
    "I heared you love {Sports}.'''\n",
    "\n",
    "print(message)"
   ]
  },
  {
   "cell_type": "code",
   "execution_count": 3,
   "id": "ea06b5e1-c046-4980-8701-ce53ee5d4574",
   "metadata": {},
   "outputs": [
    {
     "name": "stdin",
     "output_type": "stream",
     "text": [
      "Enter your first name Abdullah\n",
      "Enter your last name Zeeshan\n",
      "Enter your age 18\n"
     ]
    },
    {
     "name": "stdout",
     "output_type": "stream",
     "text": [
      " Hello Abdullah Zeeshan! You are 18 years old.\n"
     ]
    }
   ],
   "source": [
    "F_Name = input(\"Enter your first name\")\n",
    "L_Name = input(\"Enter your last name\")\n",
    "Age = int(input(\"Enter your age\"))\n",
    "\n",
    "print(f''' Hello {F_Name} {L_Name}! You are {Age} years old.''')"
   ]
  },
  {
   "cell_type": "code",
   "execution_count": 17,
   "id": "20b45a76-2060-408e-a8d5-a2999df8894c",
   "metadata": {},
   "outputs": [
    {
     "name": "stdin",
     "output_type": "stream",
     "text": [
      "Enter your first name Abdullah\n",
      "Enter your last name Zeeshan\n",
      "Enter your age 18\n"
     ]
    },
    {
     "name": "stdout",
     "output_type": "stream",
     "text": [
      "Hello Abdullah Zeeshan! you are 18 years old\n"
     ]
    }
   ],
   "source": [
    "F_Name = input(\"Enter your first name\")\n",
    "L_Name = input(\"Enter your last name\")\n",
    "Age = int(input(\"Enter your age\"))\n",
    "\n",
    "print(\"Hello\" + \" \" + F_Name + \" \" + L_Name + \"! you are\" + \" \" + str(Age) + \" \" + \"years old\")"
   ]
  },
  {
   "cell_type": "code",
   "execution_count": null,
   "id": "9aaf0823-1255-4889-9b57-5722ca4f025a",
   "metadata": {},
   "outputs": [],
   "source": []
  }
 ],
 "metadata": {
  "kernelspec": {
   "display_name": "Python 3 (ipykernel)",
   "language": "python",
   "name": "python3"
  },
  "language_info": {
   "codemirror_mode": {
    "name": "ipython",
    "version": 3
   },
   "file_extension": ".py",
   "mimetype": "text/x-python",
   "name": "python",
   "nbconvert_exporter": "python",
   "pygments_lexer": "ipython3",
   "version": "3.12.4"
  }
 },
 "nbformat": 4,
 "nbformat_minor": 5
}
