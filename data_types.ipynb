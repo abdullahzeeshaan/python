{
 "cells": [
  {
   "cell_type": "code",
   "execution_count": 1,
   "id": "e9bdff40-d5bd-411e-8e66-2701d75a8941",
   "metadata": {},
   "outputs": [
    {
     "name": "stdout",
     "output_type": "stream",
     "text": [
      "423785828\n"
     ]
    }
   ],
   "source": [
    "# integer\n",
    "print(\"423785828\")"
   ]
  },
  {
   "cell_type": "code",
   "execution_count": 5,
   "id": "0fda0445-1d71-4448-b5e9-d07e7e9a1fa9",
   "metadata": {},
   "outputs": [
    {
     "name": "stdout",
     "output_type": "stream",
     "text": [
      "1.4343Abdullah\n"
     ]
    }
   ],
   "source": [
    "# float\n",
    "name=\"Abdullah\"\n",
    "print(f\"1.4343{name}\")"
   ]
  },
  {
   "cell_type": "code",
   "execution_count": 3,
   "id": "7ed30cf9-ac83-4b29-b0ad-2fc4255063d7",
   "metadata": {},
   "outputs": [
    {
     "name": "stdout",
     "output_type": "stream",
     "text": [
      "282+4627i\n"
     ]
    }
   ],
   "source": [
    "# complex\n",
    "print(\"282+4627i\")"
   ]
  },
  {
   "cell_type": "code",
   "execution_count": 4,
   "id": "18b496e2-7991-4023-b629-787ab174f5b6",
   "metadata": {},
   "outputs": [
    {
     "name": "stdout",
     "output_type": "stream",
     "text": [
      "true\n",
      "false\n"
     ]
    }
   ],
   "source": [
    "# boolean\n",
    "print(\"true\")\n",
    "print(\"false\")"
   ]
  },
  {
   "cell_type": "code",
   "execution_count": 10,
   "id": "e1f25370-736d-467d-a8bc-16a5a51397cc",
   "metadata": {},
   "outputs": [
    {
     "name": "stdout",
     "output_type": "stream",
     "text": [
      "Pakistan\n",
      "Pakistan\n",
      "Pakistan\n"
     ]
    }
   ],
   "source": [
    "# string\n",
    "print('Pakistan')\n",
    "print(\"Pakistan\")\n",
    "print(\"\"\"Pakistan\"\"\")"
   ]
  },
  {
   "cell_type": "code",
   "execution_count": 11,
   "id": "2a153080-59f2-40a2-9c15-4758d178bfe9",
   "metadata": {},
   "outputs": [
    {
     "name": "stdout",
     "output_type": "stream",
     "text": [
      "[0, 1, 2, 3, 4, 5, 6, 7, 8, 9]\n"
     ]
    }
   ],
   "source": [
    "# list\n",
    "print([0,1,2,3,4,5,6,7,8,9])"
   ]
  },
  {
   "cell_type": "code",
   "execution_count": 12,
   "id": "ac16244f-81af-493c-b058-7eb3d8d7e2f0",
   "metadata": {},
   "outputs": [
    {
     "name": "stdout",
     "output_type": "stream",
     "text": [
      "(0, 1, 2, 3, 4, 5, 6, 7, 8, 9)\n"
     ]
    }
   ],
   "source": [
    "# tuples\n",
    "print((0,1,2,3,4,5,6,7,8,9))"
   ]
  },
  {
   "cell_type": "code",
   "execution_count": 13,
   "id": "2072e83c-5e32-4b8e-b407-a4d6dfc492b9",
   "metadata": {},
   "outputs": [
    {
     "name": "stdout",
     "output_type": "stream",
     "text": [
      "{0, 1, 2, 3, 4, 5, 6, 7, 8, 9}\n"
     ]
    }
   ],
   "source": [
    "# sets\n",
    "print({0,1,2,3,4,5,6,7,8,9})"
   ]
  },
  {
   "cell_type": "code",
   "execution_count": 15,
   "id": "1f325077-5dc6-49ca-b720-19d684402c1b",
   "metadata": {},
   "outputs": [
    {
     "name": "stdout",
     "output_type": "stream",
     "text": [
      "{'Name': 'Abdullah', 'Age': '15', 'Gender': 'Male'}\n"
     ]
    }
   ],
   "source": [
    "# dictionary\n",
    "print({\"Name\": \"Abdullah\",\"Age\": \"15\",\"Gender\": \"Male\"})"
   ]
  },
  {
   "cell_type": "code",
   "execution_count": null,
   "id": "684acc56-311e-4dd7-8550-25562cc3771f",
   "metadata": {},
   "outputs": [],
   "source": []
  }
 ],
 "metadata": {
  "kernelspec": {
   "display_name": "Python 3 (ipykernel)",
   "language": "python",
   "name": "python3"
  },
  "language_info": {
   "codemirror_mode": {
    "name": "ipython",
    "version": 3
   },
   "file_extension": ".py",
   "mimetype": "text/x-python",
   "name": "python",
   "nbconvert_exporter": "python",
   "pygments_lexer": "ipython3",
   "version": "3.12.4"
  }
 },
 "nbformat": 4,
 "nbformat_minor": 5
}
